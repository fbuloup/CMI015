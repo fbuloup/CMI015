{
 "cells": [
  {
   "cell_type": "markdown",
   "metadata": {},
   "source": [
    "# Algorithme de Héron d'Alexandrie\n",
    "\n",
    "Pour déterminer la racine carrée du nombre positif $a$, on peut considérer la suite définie par récurrence de la façon suivante :\n",
    "$$\\displaystyle \\forall n\\in \\mathbb {N}\\text{, } \\quad x_{n+1}={\\frac {x_{n}+{\\frac {a}{x_{n}}}}{2}}$$\n",
    "de premier terme $x_0>0$ choisi si possible « assez proche » de $\\sqrt{a}$. La suite ainsi obtenue est une suite convergeant vers $\\sqrt{a}$. Le but de cet exercice est d'implémenter cette suite en Python."
   ]
  },
  {
   "cell_type": "markdown",
   "metadata": {},
   "source": [
    "### Définissons tout d'abord la fonction correspondant à la série : \n",
    "Elle sera utilsée à chaque itération pour faire le calcul de la racine carrée"
   ]
  },
  {
   "cell_type": "code",
   "execution_count": 25,
   "metadata": {},
   "outputs": [],
   "source": [
    "def f(x, a):\n",
    "    return (x + a/x)/2.0"
   ]
  },
  {
   "cell_type": "markdown",
   "metadata": {},
   "source": [
    "### Définissons une condition d'arrêt :\n",
    "À chaque calcul d'un nouveau terme de la série, à chaque itération, on se rapproche davantage de la valeur exacte de la racine carrée. Mais il faut bien arrêter ces calculs ! La condition d'arrêt peut par exemple être atteinte lorsque la différence en valeur absolue entre le terme courant de la suite et le précédent est inférieure à une petite quantité. On considère que l'on a trouvé la racine carrée lorsque pour un certain rang $n_0$, la différence $\\lvert x_{n_0} - x_{n_0-1}\\rvert$ est inférieure à $\\epsilon$.\n"
   ]
  },
  {
   "cell_type": "code",
   "execution_count": 26,
   "metadata": {},
   "outputs": [],
   "source": [
    "# Précision du résultat\n",
    "epsilon = 0.0000001"
   ]
  },
  {
   "cell_type": "markdown",
   "metadata": {},
   "source": [
    "### Effectuons les calculs :"
   ]
  },
  {
   "cell_type": "code",
   "execution_count": 31,
   "metadata": {},
   "outputs": [
    {
     "name": "stdout",
     "output_type": "stream",
     "text": [
      "La racine carrée de 200.0 est 14.142135623730951 à 1e-07  près (en 5 itérations).\n"
     ]
    }
   ],
   "source": [
    "a = 200.0\n",
    "x_0 = 10.0\n",
    "x_1 = x_0 + 2*epsilon\n",
    "n_0 = 0\n",
    "\n",
    "while abs(x_1 - x_0) > epsilon :\n",
    "    x_0 = x_1\n",
    "    x_1 = f(x_0, a)\n",
    "    n_0 = n_0 + 1\n",
    "    \n",
    "print(\"La racine carrée de\", a, \"est\", x_1, \"à\", epsilon, \" près (en\",n_0 ,\"itérations).\"  )"
   ]
  },
  {
   "cell_type": "code",
   "execution_count": null,
   "metadata": {},
   "outputs": [],
   "source": []
  }
 ],
 "metadata": {
  "kernelspec": {
   "display_name": "Python 3",
   "language": "python",
   "name": "python3"
  },
  "language_info": {
   "codemirror_mode": {
    "name": "ipython",
    "version": 3
   },
   "file_extension": ".py",
   "mimetype": "text/x-python",
   "name": "python",
   "nbconvert_exporter": "python",
   "pygments_lexer": "ipython3",
   "version": "3.6.4"
  }
 },
 "nbformat": 4,
 "nbformat_minor": 2
}
