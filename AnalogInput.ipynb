{
 "cells": [
  {
   "cell_type": "markdown",
   "metadata": {},
   "source": [
    "# Lecture et transmission d'une entrée analogique par port série\n",
    "\n",
    "## Voici le petit programme Arduino :\n",
    "\n",
    "```c\n",
    "int analogPinNumber;// Numéro de l'entrée analogique\n",
    "int analogValue; // Valeur brute de cette entrée (0 à 1024, convertisseur sur 10 bits)\n",
    "\n",
    "void setup() {\n",
    "  Serial.begin(9600); // Initialialisation port série 9600 bauds\n",
    "  analogPinNumber = 0; // Initialialisation numéro de l'entrée analogique\n",
    "}\n",
    "\n",
    "void loop() {\n",
    "  analogValue = analogRead(analogPinNumber); // Acquisition de l'entrée\n",
    "  Serial.println(analogValue); // Écriture de la valeur acquise sur le port série\n",
    "  delay(1000); // Attente d'une seconde avant la prochaine lecture\n",
    "}\n",
    "```\n",
    "\n",
    "Il échantillonne toute les secondes l'entrée analogique numéro zéro et transmet la valeur au système hôte par le port série. Vous pouvez par exemple connecter le TMP36 du kit arduino. C'est ce qui est supposé dans la suite pour la partie Python.\n",
    "\n",
    "---"
   ]
  },
  {
   "cell_type": "markdown",
   "metadata": {},
   "source": [
    "## Voici la partie Python :\n",
    "\n",
    "* Création, paramétrage et ouverture du port série\n",
    "* Lecture et conversion de dix valeurs consécutives avant fermeture du port série\n",
    "\n",
    "La conversion de la valeur brute reçue de l'Arduino en degrès celsius se fait en deux étapes.\n",
    "\n",
    "1. Conversion de la valeur brute en volt :\n",
    "\n",
    "$$Valeur\\_Volt = \\frac{5}{1024}\\cdot Valeur\\_brute$$\n",
    "\n",
    "3. Conversion de la valeur volt en degrès celsius :\n",
    "\n",
    "$$Valeur\\_Celsius = (Valeur\\_Volt - 0.75)/0.01 + 25$$\n",
    "\n",
    "On peut en deduire cette équation d'après le [documentation](https://www.analog.com/media/en/technical-documentation/data-sheets/TMP35_36_37.pdf) du TPM36 puisque sa tension de sortie est de 75mV à 25°C et que sa sensibilité est de 10mV/°C."
   ]
  },
  {
   "cell_type": "code",
   "execution_count": 197,
   "metadata": {},
   "outputs": [],
   "source": [
    "# 1. Création, paramétrage et ouverture du port série\n",
    "import serial\n",
    "import time\n",
    "\n",
    "if 'ser' in locals(): ser.close()\n",
    "ser = serial.Serial()\n",
    "ser.baudrate = 9600 \n",
    "ser.port = '/dev/cu.usbmodem14101' # 'COMx' sous windows Ou '/dev/tty.usbmodem1411' par exemple, sous MacOS et Linux\n",
    "ser.open()\n",
    "ser.is_open\n",
    "time.sleep(5)# Attendre que le boot arduino soit terminé"
   ]
  },
  {
   "cell_type": "code",
   "execution_count": 198,
   "metadata": {},
   "outputs": [
    {
     "name": "stdout",
     "output_type": "stream",
     "text": [
      "21.2890625\n",
      "20.80078125\n",
      "21.2890625\n",
      "20.80078125\n",
      "21.2890625\n",
      "21.2890625\n",
      "21.2890625\n",
      "21.2890625\n",
      "21.2890625\n",
      "21.2890625\n"
     ]
    }
   ],
   "source": [
    "# 2. Lecture et conversion de dix valeurs consécutives avant fermeture du port\n",
    "n = 0\n",
    "\n",
    "while(n < 10):\n",
    "    valueString = ser.readline() # Lecture d'une valeur brute\n",
    "    value = int(valueString.strip()) # Suppresion des CR/LF\n",
    "    value = 5.0/1024.0*value # Conversion de la valeur brute en volt\n",
    "    value = (value - 0.75)/0.01 + 25 # Conversion des volts en °C\n",
    "    print(value) # Affichage de la valeur\n",
    "    n = n + 1 # Comptage du nombre de valeurs affichées\n",
    "    \n",
    "ser.close() # Fermeture du port série"
   ]
  },
  {
   "cell_type": "code",
   "execution_count": null,
   "metadata": {},
   "outputs": [],
   "source": []
  }
 ],
 "metadata": {
  "kernelspec": {
   "display_name": "Python 3",
   "language": "python",
   "name": "python3"
  },
  "language_info": {
   "codemirror_mode": {
    "name": "ipython",
    "version": 3
   },
   "file_extension": ".py",
   "mimetype": "text/x-python",
   "name": "python",
   "nbconvert_exporter": "python",
   "pygments_lexer": "ipython3",
   "version": "3.6.4"
  }
 },
 "nbformat": 4,
 "nbformat_minor": 2
}
