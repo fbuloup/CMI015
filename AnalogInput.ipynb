{
 "cells": [
  {
   "cell_type": "code",
   "execution_count": 107,
   "metadata": {},
   "outputs": [
    {
     "data": {
      "text/plain": [
       "True"
      ]
     },
     "execution_count": 107,
     "metadata": {},
     "output_type": "execute_result"
    }
   ],
   "source": [
    "# Création et paramétrage du port série\n",
    "import serial\n",
    "if 'ser' in locals(): ser.close()\n",
    "ser = serial.Serial()\n",
    "ser.baudrate = 9600 \n",
    "ser.port = 'COM5' # 'COMx' sous windows Ou '/dev/tty.usbmodem1411' par exemple, sous MacOS et Linux\n",
    "ser.open()\n",
    "ser.is_open"
   ]
  },
  {
   "cell_type": "code",
   "execution_count": 108,
   "metadata": {},
   "outputs": [
    {
     "name": "stdout",
     "output_type": "stream",
     "text": [
      "26.66015625\n",
      "27.1484375\n",
      "27.1484375\n",
      "27.1484375\n",
      "27.1484375\n",
      "27.1484375\n",
      "27.1484375\n",
      "27.1484375\n",
      "27.1484375\n",
      "26.66015625\n"
     ]
    }
   ],
   "source": [
    "n = 0\n",
    "while(n < 10):\n",
    "    valueString = ser.readline()\n",
    "    value = int(valueString.strip())\n",
    "    value = 5.0/1024.0*value\n",
    "    value = (value - 0.75)/0.01 + 25\n",
    "    print(value)\n",
    "    n = n + 1 \n",
    "ser.close()"
   ]
  },
  {
   "cell_type": "code",
   "execution_count": null,
   "metadata": {},
   "outputs": [],
   "source": []
  }
 ],
 "metadata": {
  "kernelspec": {
   "display_name": "Python 3",
   "language": "python",
   "name": "python3"
  },
  "language_info": {
   "codemirror_mode": {
    "name": "ipython",
    "version": 3
   },
   "file_extension": ".py",
   "mimetype": "text/x-python",
   "name": "python",
   "nbconvert_exporter": "python",
   "pygments_lexer": "ipython3",
   "version": "3.6.5"
  }
 },
 "nbformat": 4,
 "nbformat_minor": 2
}
