{
 "cells": [
  {
   "cell_type": "code",
   "execution_count": 78,
   "metadata": {},
   "outputs": [],
   "source": [
    "def computer_play(TTT):\n",
    "    play = True\n",
    "    while(play):\n",
    "        x = random.randint(0,8)\n",
    "        row = x // 3\n",
    "        column = x %3\n",
    "        if(TTT[row][column] is 0):\n",
    "            TTT[row][column] = 'C'\n",
    "            play = False"
   ]
  },
  {
   "cell_type": "code",
   "execution_count": 79,
   "metadata": {},
   "outputs": [],
   "source": [
    "def human_play(TTT):\n",
    "    play = True\n",
    "    while(play):\n",
    "        \n",
    "        choice = input('Where (A1 to C3) ?')\n",
    "\n",
    "        if(len(choice) == 2):\n",
    "            if(ord(choice[0]) in range(ord('A'), ord('C') + 1)):\n",
    "                if(ord(choice[1]) in range(ord('1'), ord('3') + 1)):\n",
    "                    \n",
    "                    row = 0\n",
    "                    column = 0\n",
    "\n",
    "                    if(choice[0] == 'B'):\n",
    "                        row = 1\n",
    "                    if(choice[0] == 'C'):\n",
    "                        row = 2\n",
    "                    if(choice[1] == '2'):\n",
    "                        column = 1\n",
    "                    if(choice[1] == '3'):\n",
    "                        column = 2\n",
    "        \n",
    "\n",
    "                    if(TTT[row][column] is 0):\n",
    "                        TTT[row][column] = 'H'\n",
    "                        play = False"
   ]
  },
  {
   "cell_type": "code",
   "execution_count": 80,
   "metadata": {},
   "outputs": [],
   "source": [
    "def check_winner(TTT, human):\n",
    "    \n",
    "    for r in range(0, 3):\n",
    "        check = 0\n",
    "        for c in range(0, 3):\n",
    "            if(human is True):\n",
    "                if(TTT[r][c] is 'H'):\n",
    "                    check = check + 1\n",
    "            elif(TTT[r][c] is 'C'):\n",
    "                    check = check + 1\n",
    "            if(check == 3):\n",
    "                return True\n",
    "            \n",
    "    for c in range(0, 3):\n",
    "        check = 0\n",
    "        for r in range(0, 3):\n",
    "            if(human is True):\n",
    "                if(TTT[r][c] is 'H'):\n",
    "                    check = check + 1\n",
    "            elif(TTT[r][c] is 'C'):\n",
    "                    check = check + 1\n",
    "            if(check == 3):\n",
    "                return True\n",
    "\n",
    "    check = 0    \n",
    "    for n in range(0, 3):\n",
    "        if(human is True):\n",
    "            if(TTT[n][n] is 'H' or TTT[2 - n][n] is 'H'):\n",
    "                check = check + 1\n",
    "        elif(TTT[n][n] is 'C' or TTT[2 - n][n] is 'C'):\n",
    "                check = check + 1\n",
    "        if(check == 3):\n",
    "            return True\n",
    "            \n",
    "    return False"
   ]
  },
  {
   "cell_type": "code",
   "execution_count": 86,
   "metadata": {},
   "outputs": [
    {
     "name": "stdout",
     "output_type": "stream",
     "text": [
      "Where (A1 to C3) ?A3\n",
      "[0, 0, 'H']\n",
      "[0, 0, 'C']\n",
      "[0, 0, 0]\n",
      "Where (A1 to C3) ?B2\n",
      "[0, 0, 'H']\n",
      "[0, 'H', 'C']\n",
      "[0, 0, 'C']\n",
      "Where (A1 to C3) ?C1\n",
      "You win !\n",
      "[0, 0, 'H']\n",
      "[0, 'H', 'C']\n",
      "['H', 0, 'C']\n"
     ]
    }
   ],
   "source": [
    "import random\n",
    "\n",
    "TTT = [[0,0,0],[0,0,0],[0,0,0]]\n",
    "turn = 0\n",
    "run = True\n",
    "while(run and turn < 10):\n",
    "    human_play(TTT)\n",
    "    winner = check_winner(TTT, True)\n",
    "    if(winner is True):\n",
    "        print(\"You win !\")\n",
    "        break\n",
    "    computer_play(TTT)\n",
    "    check_winner(TTT, False)\n",
    "    if(winner is True):\n",
    "        print(\"Computer win !\")\n",
    "        break\n",
    "    turn = turn + 1\n",
    "    print(TTT[:][0])\n",
    "    print(TTT[:][1])\n",
    "    print(TTT[:][2])\n",
    "\n",
    "print(TTT[:][0])\n",
    "print(TTT[:][1])\n",
    "print(TTT[:][2])"
   ]
  },
  {
   "cell_type": "code",
   "execution_count": null,
   "metadata": {},
   "outputs": [],
   "source": []
  }
 ],
 "metadata": {
  "kernelspec": {
   "display_name": "Python 3",
   "language": "python",
   "name": "python3"
  },
  "language_info": {
   "codemirror_mode": {
    "name": "ipython",
    "version": 3
   },
   "file_extension": ".py",
   "mimetype": "text/x-python",
   "name": "python",
   "nbconvert_exporter": "python",
   "pygments_lexer": "ipython3",
   "version": "3.6.4"
  }
 },
 "nbformat": 4,
 "nbformat_minor": 2
}
