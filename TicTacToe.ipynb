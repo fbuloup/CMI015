{
 "cells": [
  {
   "cell_type": "markdown",
   "metadata": {},
   "source": [
    "# Le jeu Tic-Tac-Toe\n",
    "\n",
    "Le jeu du Tic-Tac-Toe, appelé également le jeu du Morpion, se joue sur une grille de 3 cases par 3. Le premier joueur à avoir aligné trois de ses pions horizontalement, verticalement ou en diagonale a gagné. \n",
    "\n",
    "Trois fonctions sont utilisées pour implémenter le jeu :\n",
    "* computer_play : appelé lorsque c'est à l'ordinateur de jouer\n",
    "* human play : appelé lorsque c'est au tour du joueur\n",
    "* check_winner : appelé pour savoir s'il le joueur ou l'ordinateur a gagné\n",
    "\n",
    "La grille de trois cases par trois est matérialisée par une liste initialisée de la façon suivante :\n",
    "\n",
    "```python\n",
    "TTT = [[0,0,0],[0,0,0],[0,0,0]]\n",
    "```\n",
    "\n",
    "Initialement, la grille ressemble donc à ça :<br/>\n",
    "[0,0,0]<br/>\n",
    "[0,0,0]<br/>\n",
    "[0,0,0]\n",
    "\n",
    "Les lignes se nomment A, B ou C et les colonnes 1, 2 ou 3\n",
    "Lorsque le joueur choisira la case centrale par exemple, c.a.d. B2, on viendra marquer un 'H' à cet endroit :\n",
    "\n",
    "```python\n",
    "TTT = [[0,0,0],[0,'H',0],[0,0,0]]\n",
    "```\n",
    "La grille ressemble alors à ça :<br/>\n",
    "[0,0,0]<br/>\n",
    "[0,'H',0]<br/>\n",
    "[0,0,0]\n",
    "\n",
    "Si c'est l'ordinateur, on marquera 'C' : \n",
    "\n",
    "```python\n",
    "TTT = [[0,0,0],[0,'C',0],[0,0,0]]\n",
    "```\n",
    "La grille ressemble dans ce cas à ça :<br/>\n",
    "[0,0,0]<br/>\n",
    "[0,'C',0]<br/>\n",
    "[0,0,0]"
   ]
  },
  {
   "cell_type": "markdown",
   "metadata": {},
   "source": [
    "### computer_play\n",
    "Cette fonction tire un nombre aléatoire entre 0 et 8 et place le choix de l'ordinateur si la case n'est pas déjà utilisée, sinon on recommence ! Si toute la grille est utilisée, l'ordinateur ne joue pas."
   ]
  },
  {
   "cell_type": "code",
   "execution_count": 156,
   "metadata": {},
   "outputs": [],
   "source": [
    "import random\n",
    "def computer_play(TTT):\n",
    "    play = False\n",
    "    \n",
    "    for r in range(0, 3):\n",
    "        for c in range(0, 3):\n",
    "            if(TTT[r][c] is 0):\n",
    "                play = True\n",
    "                break\n",
    "    \n",
    "    if(play is False):\n",
    "        print('Grid is full')\n",
    "        \n",
    "    while(play):\n",
    "        x = random.randint(0,8)\n",
    "        row = x // 3\n",
    "        column = x %3\n",
    "        if(TTT[row][column] is 0):\n",
    "            TTT[row][column] = 'C'\n",
    "            play = False"
   ]
  },
  {
   "cell_type": "markdown",
   "metadata": {},
   "source": [
    "### human_play\n",
    "Cette fonction demande la ligne et la colonne au joueur tant que son choix n'est pas valide."
   ]
  },
  {
   "cell_type": "code",
   "execution_count": 157,
   "metadata": {},
   "outputs": [],
   "source": [
    "def human_play(TTT):\n",
    "    play = True\n",
    "    while(play):\n",
    "        \n",
    "        choice = input('Where (A1 to C3) ?')\n",
    "\n",
    "        if(len(choice) == 2):\n",
    "            if(ord(choice[0]) in range(ord('A'), ord('C') + 1)):\n",
    "                if(ord(choice[1]) in range(ord('1'), ord('3') + 1)):\n",
    "                    \n",
    "                    row = 0\n",
    "                    column = 0\n",
    "\n",
    "                    if(choice[0] == 'B'):\n",
    "                        row = 1\n",
    "                    if(choice[0] == 'C'):\n",
    "                        row = 2\n",
    "                    if(choice[1] == '2'):\n",
    "                        column = 1\n",
    "                    if(choice[1] == '3'):\n",
    "                        column = 2\n",
    "        \n",
    "\n",
    "                    if(TTT[row][column] is 0):\n",
    "                        TTT[row][column] = 'H'\n",
    "                        play = False"
   ]
  },
  {
   "cell_type": "markdown",
   "metadata": {},
   "source": [
    "### check_winner\n",
    "Cette fonction vérifie si l'ordinateur ou le joueur a gagné ! Elle vérifie chaque ligne, chaque colonne, la diagonale descendante puis la diagonale montante."
   ]
  },
  {
   "cell_type": "code",
   "execution_count": 158,
   "metadata": {},
   "outputs": [],
   "source": [
    "def check_winner(TTT, human):\n",
    "    \n",
    "    for r in range(0, 3):\n",
    "        check = 0\n",
    "        for c in range(0, 3):\n",
    "            if(human is True):\n",
    "                if(TTT[r][c] is 'H'):\n",
    "                    check = check + 1\n",
    "            elif(TTT[r][c] is 'C'):\n",
    "                    check = check + 1\n",
    "            if(check == 3):\n",
    "                return True\n",
    "            \n",
    "    for c in range(0, 3):\n",
    "        check = 0\n",
    "        for r in range(0, 3):\n",
    "            if(human is True):\n",
    "                if(TTT[r][c] is 'H'):\n",
    "                    check = check + 1\n",
    "            elif(TTT[r][c] is 'C'):\n",
    "                    check = check + 1\n",
    "            if(check == 3):\n",
    "                return True\n",
    "\n",
    "    check = 0    \n",
    "    for n in range(0, 3):\n",
    "        if(human is True):\n",
    "            if(TTT[n][n] is 'H'):\n",
    "                check = check + 1\n",
    "        elif(TTT[n][n] is 'C'):\n",
    "                check = check + 1\n",
    "        if(check == 3):\n",
    "            return True\n",
    "    \n",
    "    check = 0    \n",
    "    for n in range(0, 3):\n",
    "        if(human is True):\n",
    "            if(TTT[n][2-n] is 'H'):\n",
    "                check = check + 1\n",
    "        elif(TTT[n][2-n] is 'C'):\n",
    "                check = check + 1\n",
    "        if(check == 3):\n",
    "            return True\n",
    "            \n",
    "    return False"
   ]
  },
  {
   "cell_type": "markdown",
   "metadata": {},
   "source": [
    "C'est le programme principal. Le Morpion se joue en neuf tours. On demande au joueur de jouer, on vérifie s'il a gagné, puis c'est à l'ordinateur."
   ]
  },
  {
   "cell_type": "code",
   "execution_count": null,
   "metadata": {},
   "outputs": [
    {
     "name": "stdout",
     "output_type": "stream",
     "text": [
      "Where (A1 to C3) ?B2\n",
      "[0, 0, 0]\n",
      "['C', 'H', 0]\n",
      "[0, 0, 0]\n",
      "Where (A1 to C3) ?A2\n",
      "[0, 'H', 0]\n",
      "['C', 'H', 0]\n",
      "[0, 'C', 0]\n",
      "Where (A1 to C3) ?A1\n",
      "['H', 'H', 0]\n",
      "['C', 'H', 0]\n",
      "['C', 'C', 0]\n"
     ]
    }
   ],
   "source": [
    "TTT = [[0,0,0],[0,0,0],[0,0,0]]\n",
    "turn = 0\n",
    "while(turn < 5):\n",
    "    human_play(TTT)\n",
    "    winner = check_winner(TTT, True)\n",
    "    if(winner is True):\n",
    "        print(\"You win !\")\n",
    "        break\n",
    "    computer_play(TTT)\n",
    "    winner = check_winner(TTT, False)\n",
    "    if(winner is True):\n",
    "        print(\"Computer win !\")\n",
    "        break\n",
    "    turn = turn + 1\n",
    "    print(TTT[:][0])\n",
    "    print(TTT[:][1])\n",
    "    print(TTT[:][2])"
   ]
  },
  {
   "cell_type": "code",
   "execution_count": null,
   "metadata": {},
   "outputs": [],
   "source": []
  }
 ],
 "metadata": {
  "kernelspec": {
   "display_name": "Python 3",
   "language": "python",
   "name": "python3"
  },
  "language_info": {
   "codemirror_mode": {
    "name": "ipython",
    "version": 3
   },
   "file_extension": ".py",
   "mimetype": "text/x-python",
   "name": "python",
   "nbconvert_exporter": "python",
   "pygments_lexer": "ipython3",
   "version": "3.6.4"
  }
 },
 "nbformat": 4,
 "nbformat_minor": 2
}
