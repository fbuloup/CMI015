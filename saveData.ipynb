{
 "cells": [
  {
   "cell_type": "code",
   "execution_count": 19,
   "metadata": {},
   "outputs": [],
   "source": [
    "# 1. Création, paramétrage et ouverture du port série\n",
    "import serial\n",
    "import time\n",
    "\n",
    "if 'ser' in locals(): ser.close()\n",
    "ser = serial.Serial()\n",
    "ser.baudrate = 9600 \n",
    "ser.port = 'COM4' # 'COMx' sous windows Ou '/dev/tty.usbmodem1411' par exemple, sous MacOS et Linux\n",
    "ser.open()\n",
    "ser.is_open\n",
    "time.sleep(5)# Attendre que le boot arduino soit terminé\n",
    "dataFile = open(\"data.txt\",\"w+\")  # Création du fichier de données\n",
    "valueArray = []\n",
    "timeArray = []"
   ]
  },
  {
   "cell_type": "code",
   "execution_count": 20,
   "metadata": {},
   "outputs": [
    {
     "name": "stdout",
     "output_type": "stream",
     "text": [
      "19.82421875\n",
      "19.82421875\n",
      "19.82421875\n",
      "19.82421875\n",
      "19.82421875\n",
      "19.3359375\n",
      "19.82421875\n",
      "19.82421875\n",
      "19.3359375\n",
      "19.82421875\n"
     ]
    }
   ],
   "source": [
    "# 2. Lecture et conversion de dix valeurs consécutives avant fermeture du port\n",
    "n = 0\n",
    "\n",
    "while(n < 10):\n",
    "    valueString = ser.readline() # Lecture d'une valeur brute\n",
    "    value = int(valueString.strip()) # Suppresion des CR/LF\n",
    "    value = 5.0/1024.0*value # Conversion de la valeur brute en volt\n",
    "    value = (value - 0.75)/0.01 + 25 # Conversion des volts en °C\n",
    "    print(value) # Affichage de la valeur\n",
    "    n = n + 1 # Comptage du nombre de valeurs affichées\n",
    "    dataFile.write(str(value) + \"\\n\") # Ecriture de la valeur courante dans le fichier\n",
    "    valueArray.append(value)\n",
    "    timeArray.append(n)\n",
    "    \n",
    "ser.close() # Fermeture du port série\n",
    "dataFile.close() # Fermeture du fichier"
   ]
  },
  {
   "cell_type": "code",
   "execution_count": 21,
   "metadata": {},
   "outputs": [
    {
     "data": {
      "text/plain": [
       "[<matplotlib.lines.Line2D at 0xda0e7b0>]"
      ]
     },
     "execution_count": 21,
     "metadata": {},
     "output_type": "execute_result"
    },
    {
     "data": {
      "image/png": "[encoded data removed]",
      "text/plain": [
       "<Figure size 432x288 with 1 Axes>"
      ]
     },
     "metadata": {},
     "output_type": "display_data"
    }
   ],
   "source": [
    "from pylab import *\n",
    "plot(timeArray, valueArray)"
   ]
  },
  {
   "cell_type": "code",
   "execution_count": null,
   "metadata": {},
   "outputs": [],
   "source": []
  }
 ],
 "metadata": {
  "kernelspec": {
   "display_name": "Python 3",
   "language": "python",
   "name": "python3"
  },
  "language_info": {
   "codemirror_mode": {
    "name": "ipython",
    "version": 3
   },
   "file_extension": ".py",
   "mimetype": "text/x-python",
   "name": "python",
   "nbconvert_exporter": "python",
   "pygments_lexer": "ipython3",
   "version": "3.6.5"
  }
 },
 "nbformat": 4,
 "nbformat_minor": 2
}
