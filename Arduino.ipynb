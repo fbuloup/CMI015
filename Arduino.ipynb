{
 "cells": [
  {
   "cell_type": "markdown",
   "metadata": {},
   "source": [
    "# Gestion de deux sorties numériques d'un Arduino\n",
    "\n",
    "Ce notebook propose de gérer l'état de deux sorties numériques d'un Arduino : les ports 2 et 3. On pourra connecter une led en série avec sa résistance pour chacune des sorties.\n",
    "\n",
    "Il vous faudra gérer deux types de codes pour mener à bien ce petit TP :\n",
    "1. le code Arduino\n",
    "2. le code python interactif\n"
   ]
  },
  {
   "cell_type": "markdown",
   "metadata": {},
   "source": [
    "### 1. Le code source Arduino\n",
    "\n",
    "Ce code permet de positionner l'état des sorties digitales numéro deux ou trois en fonction de la commande provenant du port série. Cette commande doit être de la forme \"channelNumber:channelValue\" où channelNumber peut valoir 2 ou 3 et channelValue peut prendre comme valeur 0 pour mettre le port à l'état bas ou tout autre valeur pour mettre le port à l'état haut. On pourra donc avoir les commandes \"2:0\", \"2:1\", \"3:0\" ou \"3:1\".\n",
    "\n",
    "Voici le listing du code :\n",
    "\n",
    "```c\n",
    "String inputString = \"\"; // String to hold incoming command\n",
    "String tempString = \"\"; // Temporary String to hold type conversion\n",
    "bool stringComplete = false;  // Whether the string is complete or not\n",
    "int tokenIndex = 0; // Index of \":\" char\n",
    "int channelNumber, channelValue; // Selected channel (2 or 3) and value\n",
    "char message[25]; // Sent back message to computer\n",
    "\n",
    "void setup() {\n",
    "  // initialize serial:\n",
    "  Serial.begin(9600);\n",
    "  \n",
    "  // Output configuration\n",
    "  pinMode(2, OUTPUT); // First LED on pin 2\n",
    "  pinMode(3, OUTPUT); // Second LED on pin 3\n",
    "}\n",
    "\n",
    "void loop() {\n",
    "  // Process command when String is complete\n",
    "  if (stringComplete) {\n",
    "    // Detect \":\" position in string\n",
    "    tokenIndex = inputString.indexOf(\":\");\n",
    "\n",
    "    // If \":\" is detected\n",
    "    if(tokenIndex != -1) {\n",
    "      // Compute channel number and value from input string \n",
    "      tempString = inputString.substring(0, tokenIndex);\n",
    "      channelNumber = tempString.toInt();\n",
    "      tempString = inputString.substring(tokenIndex + 1, inputString.length());\n",
    "      channelValue = tempString.toInt();\n",
    "      \n",
    "      // If channel number is in 2 or 3\n",
    "      if(channelNumber == 2 or channelNumber == 3) {\n",
    "        // Switch channel on or off\n",
    "        if(channelValue == 0) {\n",
    "          digitalWrite(channelNumber, LOW);\n",
    "          sprintf(message, \"LED on channel %d swithed off\", channelNumber);\n",
    "        } else {\n",
    "          digitalWrite(channelNumber, HIGH);\n",
    "          sprintf(message, \"LED on channel %d swithed on\", channelNumber);\n",
    "        }\n",
    "        \n",
    "        // Print message back to computer\n",
    "        Serial.println(message);\n",
    "        \n",
    "      }\n",
    "      \n",
    "    }\n",
    "    \n",
    "    // Clear the string:\n",
    "    inputString = \"\";\n",
    "    stringComplete = false;\n",
    "    \n",
    "  }\n",
    "}\n",
    "\n",
    "/*\n",
    "  SerialEvent occurs whenever a new data comes in the hardware serial RX. This\n",
    "  routine is run between each time loop() runs, so using delay inside loop can\n",
    "  delay response. Multiple bytes of data may be available.\n",
    "*/\n",
    "void serialEvent() {\n",
    "\n",
    "  // While there is a char on serial port\n",
    "  while (Serial.available()) {\n",
    "    \n",
    "    // Read new byte:\n",
    "    char inChar = (char)Serial.read();\n",
    "    \n",
    "    if (inChar == '\\n') stringComplete = true; // If new line, string is complete\n",
    "    else  inputString += inChar; // Else it's new char\n",
    "      \n",
    "  }\n",
    "  \n",
    "}\n",
    "```"
   ]
  },
  {
   "cell_type": "markdown",
   "metadata": {},
   "source": [
    "### 2. Le code python"
   ]
  },
  {
   "cell_type": "code",
   "execution_count": 118,
   "metadata": {},
   "outputs": [
    {
     "data": {
      "text/plain": [
       "Serial<id=0x1071fdcf8, open=False>(port='/dev/tty.usbmodem1411', baudrate=9600, bytesize=8, parity='N', stopbits=1, timeout=None, xonxoff=False, rtscts=False, dsrdtr=False)"
      ]
     },
     "execution_count": 118,
     "metadata": {},
     "output_type": "execute_result"
    }
   ],
   "source": [
    "# Création et paramétrage du port série\n",
    "import serial\n",
    "ser = serial.Serial()\n",
    "ser.baudrate = 9600 \n",
    "ser.port = '/dev/tty.usbmodem1411' # 'COMx' sous windows Ou '/dev/tty.usbmodem1411' par exemple, sous MacOS et Linux\n",
    "ser"
   ]
  },
  {
   "cell_type": "code",
   "execution_count": 119,
   "metadata": {},
   "outputs": [
    {
     "data": {
      "text/plain": [
       "True"
      ]
     },
     "execution_count": 119,
     "metadata": {},
     "output_type": "execute_result"
    }
   ],
   "source": [
    "# Ouverture connection au port série\n",
    "ser.open()\n",
    "ser.is_open"
   ]
  },
  {
   "cell_type": "code",
   "execution_count": 120,
   "metadata": {},
   "outputs": [],
   "source": [
    "# Création des deux checkbox\n",
    "import ipywidgets as widgets\n",
    "led1_checkbox = widgets.Checkbox(value=False, description='LED 1', disabled=False)\n",
    "led2_checkbox = widgets.Checkbox(value=False, description='LED 2', disabled=False)"
   ]
  },
  {
   "cell_type": "code",
   "execution_count": 121,
   "metadata": {},
   "outputs": [],
   "source": [
    "# Creation de la fonction interactive\n",
    "def on_button_checked(b):\n",
    "    \n",
    "    state = 0 if(b.owner.value == False) else 1\n",
    "    \n",
    "    if(b.owner == led1_checkbox) :\n",
    "        cmd = \"2:\" + str(state) + \"\\n\"\n",
    "    elif(b.owner == led2_checkbox) :\n",
    "        cmd = \"3:\" + str(state) + \"\\n\"\n",
    "\n",
    "    ser.write(cmd.encode())"
   ]
  },
  {
   "cell_type": "code",
   "execution_count": 122,
   "metadata": {},
   "outputs": [],
   "source": [
    "# Connection des deux checkbox à la fonction\n",
    "led1_checkbox.observe(on_button_checked)\n",
    "led2_checkbox.observe(on_button_checked)"
   ]
  },
  {
   "cell_type": "code",
   "execution_count": 123,
   "metadata": {},
   "outputs": [
    {
     "data": {
      "application/vnd.jupyter.widget-view+json": {
       "model_id": "26210f1e908c4af8817d5f451aced762",
       "version_major": 2,
       "version_minor": 0
      },
      "text/html": [
       "<p>Failed to display Jupyter Widget of type <code>Checkbox</code>.</p>\n",
       "<p>\n",
       "  If you're reading this message in the Jupyter Notebook or JupyterLab Notebook, it may mean\n",
       "  that the widgets JavaScript is still loading. If this message persists, it\n",
       "  likely means that the widgets JavaScript library is either not installed or\n",
       "  not enabled. See the <a href=\"https://ipywidgets.readthedocs.io/en/stable/user_install.html\">Jupyter\n",
       "  Widgets Documentation</a> for setup instructions.\n",
       "</p>\n",
       "<p>\n",
       "  If you're reading this message in another frontend (for example, a static\n",
       "  rendering on GitHub or <a href=\"https://nbviewer.jupyter.org/\">NBViewer</a>),\n",
       "  it may mean that your frontend doesn't currently support widgets.\n",
       "</p>\n"
      ],
      "text/plain": [
       "Checkbox(value=False, description='LED 1')"
      ]
     },
     "metadata": {},
     "output_type": "display_data"
    },
    {
     "data": {
      "application/vnd.jupyter.widget-view+json": {
       "model_id": "e2886189862c4488bd8d723f65f4a272",
       "version_major": 2,
       "version_minor": 0
      },
      "text/html": [
       "<p>Failed to display Jupyter Widget of type <code>Checkbox</code>.</p>\n",
       "<p>\n",
       "  If you're reading this message in the Jupyter Notebook or JupyterLab Notebook, it may mean\n",
       "  that the widgets JavaScript is still loading. If this message persists, it\n",
       "  likely means that the widgets JavaScript library is either not installed or\n",
       "  not enabled. See the <a href=\"https://ipywidgets.readthedocs.io/en/stable/user_install.html\">Jupyter\n",
       "  Widgets Documentation</a> for setup instructions.\n",
       "</p>\n",
       "<p>\n",
       "  If you're reading this message in another frontend (for example, a static\n",
       "  rendering on GitHub or <a href=\"https://nbviewer.jupyter.org/\">NBViewer</a>),\n",
       "  it may mean that your frontend doesn't currently support widgets.\n",
       "</p>\n"
      ],
      "text/plain": [
       "Checkbox(value=False, description='LED 2')"
      ]
     },
     "metadata": {},
     "output_type": "display_data"
    }
   ],
   "source": [
    "# Affichage\n",
    "display(led1_checkbox)\n",
    "display(led2_checkbox)"
   ]
  }
 ],
 "metadata": {
  "kernelspec": {
   "display_name": "Python 3",
   "language": "python",
   "name": "python3"
  },
  "language_info": {
   "codemirror_mode": {
    "name": "ipython",
    "version": 3
   },
   "file_extension": ".py",
   "mimetype": "text/x-python",
   "name": "python",
   "nbconvert_exporter": "python",
   "pygments_lexer": "ipython3",
   "version": "3.6.4"
  }
 },
 "nbformat": 4,
 "nbformat_minor": 2
}
