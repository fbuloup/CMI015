{
 "cells": [
  {
   "cell_type": "markdown",
   "metadata": {},
   "source": [
    "# Gestion de deux sorties numériques d'un Arduino - Version simplifiée\n",
    "Ce notebook propose de gérer l'état de deux sorties numériques d'un Arduino : les ports 2 et 3. On pourra connecter une led en série avec sa résistance pour chacune des sorties.\n",
    "\n",
    "Il vous faudra gérer deux types de codes pour mener à bien ce petit TP :\n",
    "1. le code Arduino\n",
    "2. le code Python interactif\n",
    "\n",
    "\n",
    "### 1. Le code source Arduino\n",
    "Ce code permet de positionner l'état des sorties digitales numéro deux ou trois en fonction de la commande provenant du port série. Cette commande doit être \"0\", \"1\", \"2\" ou \"3\" :\n",
    "\n",
    "* 0 : LED 1 OFF\n",
    "* 1 : LED 1 ON\n",
    "* 2 : LED 2 OFF\n",
    "* 3 : LED 2 ON\n",
    "\n",
    "Vous pourrez vous servir du moniteur série de l'environnement de développement Arduino pour tester cette partie. \n",
    "\n",
    "Voici le listing du code :\n",
    "\n",
    "```c\n",
    "void setup() {\n",
    "  // initialize serial:\n",
    "  Serial.begin(9600);\n",
    "\n",
    "  // Output configuration\n",
    "  pinMode(2, OUTPUT); // First LED on pin 2\n",
    "  pinMode(3, OUTPUT); // Second LED on pin 3\n",
    "}\n",
    "\n",
    "void loop() {\n",
    "  // While there is a char on serial port\n",
    "  while (Serial.available()) {\n",
    "\n",
    "    // Read new byte:\n",
    "    char inChar = (char)Serial.read();\n",
    "\n",
    "    if (inChar == '0') digitalWrite(2, LOW);  // LED1 OFF\n",
    "    if (inChar == '1') digitalWrite(2, HIGH); // LED1 ON\n",
    "    if (inChar == '2') digitalWrite(3, LOW);  // LED2 OFF\n",
    "    if (inChar == '3') digitalWrite(3, HIGH); // LED2 ON\n",
    "  }\n",
    "  \n",
    "}\n",
    "```"
   ]
  },
  {
   "cell_type": "markdown",
   "metadata": {},
   "source": [
    "### 2. Le code Python"
   ]
  },
  {
   "cell_type": "code",
   "execution_count": 25,
   "metadata": {},
   "outputs": [
    {
     "data": {
      "text/plain": [
       "Serial<id=0x1068f5080, open=False>(port='/dev/tty.usbmodem14611', baudrate=9600, bytesize=8, parity='N', stopbits=1, timeout=None, xonxoff=False, rtscts=False, dsrdtr=False)"
      ]
     },
     "execution_count": 25,
     "metadata": {},
     "output_type": "execute_result"
    }
   ],
   "source": [
    "# Création et paramétrage du port série\n",
    "import serial\n",
    "if 'ser' in locals(): ser.close()\n",
    "ser = serial.Serial()\n",
    "ser.baudrate = 9600 \n",
    "ser.port = '/dev/tty.usbmodem14611' # 'COMx' sous windows Ou '/dev/tty.usbmodem1411' par exemple, sous MacOS et Linux\n",
    "ser"
   ]
  },
  {
   "cell_type": "code",
   "execution_count": 26,
   "metadata": {},
   "outputs": [
    {
     "data": {
      "text/plain": [
       "True"
      ]
     },
     "execution_count": 26,
     "metadata": {},
     "output_type": "execute_result"
    }
   ],
   "source": [
    "ser.open()\n",
    "ser.is_open"
   ]
  },
  {
   "cell_type": "code",
   "execution_count": 27,
   "metadata": {},
   "outputs": [],
   "source": [
    "# Création des deux checkbox\n",
    "import ipywidgets as widgets\n",
    "led1_checkbox = widgets.Checkbox(value=False, description='LED 1', disabled=False)\n",
    "led2_checkbox = widgets.Checkbox(value=False, description='LED 2', disabled=False)"
   ]
  },
  {
   "cell_type": "code",
   "execution_count": 28,
   "metadata": {},
   "outputs": [],
   "source": [
    "# Creation de la fonction interactive\n",
    "def on_button_checked(b):\n",
    "    \n",
    "    state = 0 if(b.owner.value == False) else 1\n",
    "    \n",
    "    if(b.owner == led1_checkbox) :\n",
    "        \n",
    "        if(state == 0) :\n",
    "            cmd = \"0\"\n",
    "        else :\n",
    "            cmd = \"1\"\n",
    "        \n",
    "    elif(b.owner == led2_checkbox) :\n",
    "        \n",
    "        if(state == 0) :\n",
    "            cmd = \"2\"\n",
    "        else :\n",
    "            cmd = \"3\"\n",
    "\n",
    "    ser.write(cmd.encode())"
   ]
  },
  {
   "cell_type": "code",
   "execution_count": 29,
   "metadata": {},
   "outputs": [],
   "source": [
    "# Connection des deux checkbox à la fonction\n",
    "led1_checkbox.observe(on_button_checked)\n",
    "led2_checkbox.observe(on_button_checked)"
   ]
  },
  {
   "cell_type": "code",
   "execution_count": 30,
   "metadata": {},
   "outputs": [
    {
     "data": {
      "application/vnd.jupyter.widget-view+json": {
       "model_id": "12b60df69c914315a03e2160aa5c0771",
       "version_major": 2,
       "version_minor": 0
      },
      "text/html": [
       "<p>Failed to display Jupyter Widget of type <code>Checkbox</code>.</p>\n",
       "<p>\n",
       "  If you're reading this message in the Jupyter Notebook or JupyterLab Notebook, it may mean\n",
       "  that the widgets JavaScript is still loading. If this message persists, it\n",
       "  likely means that the widgets JavaScript library is either not installed or\n",
       "  not enabled. See the <a href=\"https://ipywidgets.readthedocs.io/en/stable/user_install.html\">Jupyter\n",
       "  Widgets Documentation</a> for setup instructions.\n",
       "</p>\n",
       "<p>\n",
       "  If you're reading this message in another frontend (for example, a static\n",
       "  rendering on GitHub or <a href=\"https://nbviewer.jupyter.org/\">NBViewer</a>),\n",
       "  it may mean that your frontend doesn't currently support widgets.\n",
       "</p>\n"
      ],
      "text/plain": [
       "Checkbox(value=False, description='LED 1')"
      ]
     },
     "metadata": {},
     "output_type": "display_data"
    },
    {
     "data": {
      "application/vnd.jupyter.widget-view+json": {
       "model_id": "c300952519554d678c1b72449b8acccb",
       "version_major": 2,
       "version_minor": 0
      },
      "text/html": [
       "<p>Failed to display Jupyter Widget of type <code>Checkbox</code>.</p>\n",
       "<p>\n",
       "  If you're reading this message in the Jupyter Notebook or JupyterLab Notebook, it may mean\n",
       "  that the widgets JavaScript is still loading. If this message persists, it\n",
       "  likely means that the widgets JavaScript library is either not installed or\n",
       "  not enabled. See the <a href=\"https://ipywidgets.readthedocs.io/en/stable/user_install.html\">Jupyter\n",
       "  Widgets Documentation</a> for setup instructions.\n",
       "</p>\n",
       "<p>\n",
       "  If you're reading this message in another frontend (for example, a static\n",
       "  rendering on GitHub or <a href=\"https://nbviewer.jupyter.org/\">NBViewer</a>),\n",
       "  it may mean that your frontend doesn't currently support widgets.\n",
       "</p>\n"
      ],
      "text/plain": [
       "Checkbox(value=False, description='LED 2')"
      ]
     },
     "metadata": {},
     "output_type": "display_data"
    }
   ],
   "source": [
    "# Affichage\n",
    "display(led1_checkbox)\n",
    "display(led2_checkbox)"
   ]
  }
 ],
 "metadata": {
  "kernelspec": {
   "display_name": "Python 3",
   "language": "python",
   "name": "python3"
  },
  "language_info": {
   "codemirror_mode": {
    "name": "ipython",
    "version": 3
   },
   "file_extension": ".py",
   "mimetype": "text/x-python",
   "name": "python",
   "nbconvert_exporter": "python",
   "pygments_lexer": "ipython3",
   "version": "3.6.4"
  }
 },
 "nbformat": 4,
 "nbformat_minor": 2
}
