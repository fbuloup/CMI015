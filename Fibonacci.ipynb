{
 "cells": [
  {
   "cell_type": "markdown",
   "metadata": {},
   "source": [
    "# Somme des termes pairs de la suite de Fibonacci"
   ]
  },
  {
   "cell_type": "code",
   "execution_count": 13,
   "metadata": {},
   "outputs": [
    {
     "name": "stdout",
     "output_type": "stream",
     "text": [
      "Le résultat est :  4613732\n"
     ]
    }
   ],
   "source": [
    "# Initialisation\n",
    "previous_term = 1\n",
    "next_term = 2\n",
    "sum_value = 0\n",
    "\n",
    "# Boucle\n",
    "while next_term < 4000000:\n",
    "    \n",
    "    if next_term % 2 == 0:# Si le terme courant de la suite est pair\n",
    "        sum_value = sum_value + next_term # on le prend en compte dans la somme finale\n",
    "        \n",
    "    temp_value = previous_term + next_term # calcul du terme suivant de la suite \n",
    "    previous_term = next_term # Sauvegarde du terme précédent\n",
    "    next_term = temp_value # Sauvegarde du terme suivant\n",
    "\n",
    "# Affichage du résultat\n",
    "print(\"Le résultat est : \", sum_value)"
   ]
  }
 ],
 "metadata": {
  "kernelspec": {
   "display_name": "Python 3",
   "language": "python",
   "name": "python3"
  },
  "language_info": {
   "codemirror_mode": {
    "name": "ipython",
    "version": 3
   },
   "file_extension": ".py",
   "mimetype": "text/x-python",
   "name": "python",
   "nbconvert_exporter": "python",
   "pygments_lexer": "ipython3",
   "version": "3.6.5"
  }
 },
 "nbformat": 4,
 "nbformat_minor": 2
}
